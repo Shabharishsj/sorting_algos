{
 "cells": [
  {
   "cell_type": "code",
   "execution_count": 13,
   "id": "a85d9a51",
   "metadata": {},
   "outputs": [
    {
     "name": "stdout",
     "output_type": "stream",
     "text": [
      "[0, 2, 3, 4, 6, 8, 9]\n"
     ]
    }
   ],
   "source": [
    "# Insertion sort\n",
    "\n",
    "lst = [8,6,9,4,3,2,0]\n",
    "\n",
    "for i in range(1,len(lst)):\n",
    "    \n",
    "    key = lst[i]\n",
    "    j = i - 1\n",
    "    \n",
    "    while j>=0 and key < lst[j]:\n",
    "        lst[j+1],lst[j] = lst[j], lst[j+1]\n",
    "        j -= 1\n",
    "        \n",
    "    lst[j+1] = key\n",
    "    \n",
    "print(lst)"
   ]
  },
  {
   "cell_type": "code",
   "execution_count": 12,
   "id": "baf3e2f9",
   "metadata": {},
   "outputs": [
    {
     "name": "stdout",
     "output_type": "stream",
     "text": [
      "[0, 2, 3, 4, 6, 8, 9]\n"
     ]
    }
   ],
   "source": [
    "# Bubble sort\n",
    "\n",
    "lst = [8,6,9,4,3,2,0]\n",
    "\n",
    "for j in range(len(lst)):\n",
    "    \n",
    "    switch = True\n",
    "\n",
    "    for i in range(1,len(lst)-j):\n",
    "    \n",
    "        if lst[i-1] > lst[i]:\n",
    "            lst[i-1], lst[i] = lst[i], lst[i-1]\n",
    "            switch = True\n",
    "        else:\n",
    "            switch = False\n",
    "            \n",
    "    if not(switch):\n",
    "        break\n",
    "    \n",
    "print(lst)"
   ]
  },
  {
   "cell_type": "code",
   "execution_count": 16,
   "id": "3037c802",
   "metadata": {},
   "outputs": [
    {
     "name": "stdout",
     "output_type": "stream",
     "text": [
      "[0, 2, 3, 4, 6, 8, 9]\n"
     ]
    }
   ],
   "source": [
    "# Selection sort\n",
    "\n",
    "lst = [8,6,9,4,3,2,0]\n",
    "\n",
    "for i in range(len(lst)):\n",
    "    \n",
    "    min_index = i\n",
    "    \n",
    "    for j in range(i+1,len(lst)):\n",
    "    \n",
    "        if lst[j] < lst[min_index]:\n",
    "            min_index = j\n",
    "            \n",
    "    lst[i], lst[min_index] = lst[min_index], lst[i]\n",
    "    \n",
    "\n",
    "print(lst)"
   ]
  },
  {
   "cell_type": "code",
   "execution_count": null,
   "id": "6bcdecfa",
   "metadata": {},
   "outputs": [],
   "source": []
  },
  {
   "cell_type": "code",
   "execution_count": null,
   "id": "a74f6d33",
   "metadata": {},
   "outputs": [],
   "source": []
  }
 ],
 "metadata": {
  "kernelspec": {
   "display_name": "Python 3 (ipykernel)",
   "language": "python",
   "name": "python3"
  },
  "language_info": {
   "codemirror_mode": {
    "name": "ipython",
    "version": 3
   },
   "file_extension": ".py",
   "mimetype": "text/x-python",
   "name": "python",
   "nbconvert_exporter": "python",
   "pygments_lexer": "ipython3",
   "version": "3.9.12"
  }
 },
 "nbformat": 4,
 "nbformat_minor": 5
}
