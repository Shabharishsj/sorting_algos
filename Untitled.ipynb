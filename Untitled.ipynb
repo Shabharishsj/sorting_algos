{
 "cells": [
  {
   "cell_type": "code",
   "execution_count": 22,
   "id": "94592639",
   "metadata": {},
   "outputs": [
    {
     "data": {
      "text/plain": [
       "True"
      ]
     },
     "execution_count": 22,
     "metadata": {},
     "output_type": "execute_result"
    }
   ],
   "source": [
    "'5' in ['4', '1', '5', '9', '1']"
   ]
  },
  {
   "cell_type": "code",
   "execution_count": 48,
   "id": "0a2ff0de",
   "metadata": {},
   "outputs": [
    {
     "name": "stdout",
     "output_type": "stream",
     "text": [
      "5\n"
     ]
    },
    {
     "data": {
      "text/plain": [
       "True"
      ]
     },
     "execution_count": 48,
     "metadata": {},
     "output_type": "execute_result"
    }
   ],
   "source": [
    "L = \" 4 1 5 9 1\"\n",
    "L = L.split()\n",
    "\n",
    "S = \" 5\"\n",
    "S = S.split()\n",
    "S = str(S[0])\n",
    "print(S)\n",
    "\n",
    "S in L"
   ]
  },
  {
   "cell_type": "code",
   "execution_count": null,
   "id": "c5d0db2c",
   "metadata": {},
   "outputs": [],
   "source": []
  }
 ],
 "metadata": {
  "kernelspec": {
   "display_name": "Python 3 (ipykernel)",
   "language": "python",
   "name": "python3"
  },
  "language_info": {
   "codemirror_mode": {
    "name": "ipython",
    "version": 3
   },
   "file_extension": ".py",
   "mimetype": "text/x-python",
   "name": "python",
   "nbconvert_exporter": "python",
   "pygments_lexer": "ipython3",
   "version": "3.9.12"
  }
 },
 "nbformat": 4,
 "nbformat_minor": 5
}
